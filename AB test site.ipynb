{
 "cells": [
  {
   "cell_type": "markdown",
   "id": "e4f70cf5",
   "metadata": {},
   "source": [
    "# Проверка гипотез, анализ результатов A/B теста.\n",
    "\n",
    "Данные взяты с открытого источника Kaggle.com https://www.kaggle.com/datasets/sergylog/ab-test-data.\n",
    "\n",
    "## Постановка задачи:\n",
    "\n",
    "Сайт запустил A/B-тест с целью увеличения дохода. \\\n",
    "Данные содержат идентификатор пользователя(USER_ID), метку группы(VARIANT_NAME) и доход(REVENUE). \\\n",
    "Необходимо проанализировать результаты A/B-теста."
   ]
  },
  {
   "cell_type": "code",
   "execution_count": 1,
   "id": "67e3d6dc",
   "metadata": {},
   "outputs": [],
   "source": [
    "%matplotlib inline\n",
    "\n",
    "import pandas as pd\n",
    "import numpy as np\n",
    "from scipy import stats\n",
    "import seaborn as sns\n",
    "import matplotlib.pyplot as plt"
   ]
  },
  {
   "cell_type": "markdown",
   "id": "d5d2955f",
   "metadata": {},
   "source": [
    "Прочитаем файл и посмотрим общую информацию о данных."
   ]
  },
  {
   "cell_type": "code",
   "execution_count": 2,
   "id": "5484ef26",
   "metadata": {},
   "outputs": [
    {
     "name": "stdout",
     "output_type": "stream",
     "text": [
      "<class 'pandas.core.frame.DataFrame'>\n",
      "RangeIndex: 10000 entries, 0 to 9999\n",
      "Data columns (total 3 columns):\n",
      " #   Column        Non-Null Count  Dtype  \n",
      "---  ------        --------------  -----  \n",
      " 0   USER_ID       10000 non-null  int64  \n",
      " 1   VARIANT_NAME  10000 non-null  object \n",
      " 2   REVENUE       10000 non-null  float64\n",
      "dtypes: float64(1), int64(1), object(1)\n",
      "memory usage: 234.5+ KB\n"
     ]
    }
   ],
   "source": [
    "df = pd.read_csv('AB_Test_Results.csv')\n",
    "df.info()"
   ]
  },
  {
   "cell_type": "code",
   "execution_count": 3,
   "id": "755d92b9",
   "metadata": {},
   "outputs": [
    {
     "data": {
      "text/html": [
       "<div>\n",
       "<style scoped>\n",
       "    .dataframe tbody tr th:only-of-type {\n",
       "        vertical-align: middle;\n",
       "    }\n",
       "\n",
       "    .dataframe tbody tr th {\n",
       "        vertical-align: top;\n",
       "    }\n",
       "\n",
       "    .dataframe thead th {\n",
       "        text-align: right;\n",
       "    }\n",
       "</style>\n",
       "<table border=\"1\" class=\"dataframe\">\n",
       "  <thead>\n",
       "    <tr style=\"text-align: right;\">\n",
       "      <th></th>\n",
       "      <th>USER_ID</th>\n",
       "      <th>VARIANT_NAME</th>\n",
       "      <th>REVENUE</th>\n",
       "    </tr>\n",
       "  </thead>\n",
       "  <tbody>\n",
       "    <tr>\n",
       "      <th>0</th>\n",
       "      <td>737</td>\n",
       "      <td>variant</td>\n",
       "      <td>0.0</td>\n",
       "    </tr>\n",
       "    <tr>\n",
       "      <th>1</th>\n",
       "      <td>2423</td>\n",
       "      <td>control</td>\n",
       "      <td>0.0</td>\n",
       "    </tr>\n",
       "    <tr>\n",
       "      <th>2</th>\n",
       "      <td>9411</td>\n",
       "      <td>control</td>\n",
       "      <td>0.0</td>\n",
       "    </tr>\n",
       "    <tr>\n",
       "      <th>3</th>\n",
       "      <td>7311</td>\n",
       "      <td>control</td>\n",
       "      <td>0.0</td>\n",
       "    </tr>\n",
       "    <tr>\n",
       "      <th>4</th>\n",
       "      <td>6174</td>\n",
       "      <td>variant</td>\n",
       "      <td>0.0</td>\n",
       "    </tr>\n",
       "  </tbody>\n",
       "</table>\n",
       "</div>"
      ],
      "text/plain": [
       "   USER_ID VARIANT_NAME  REVENUE\n",
       "0      737      variant      0.0\n",
       "1     2423      control      0.0\n",
       "2     9411      control      0.0\n",
       "3     7311      control      0.0\n",
       "4     6174      variant      0.0"
      ]
     },
     "execution_count": 3,
     "metadata": {},
     "output_type": "execute_result"
    }
   ],
   "source": [
    "df.head()"
   ]
  },
  {
   "cell_type": "markdown",
   "id": "cd2bb874",
   "metadata": {},
   "source": [
    "Переименуем столбцы и название тестовой группы."
   ]
  },
  {
   "cell_type": "code",
   "execution_count": 4,
   "id": "b17ddfa3",
   "metadata": {},
   "outputs": [
    {
     "data": {
      "text/html": [
       "<div>\n",
       "<style scoped>\n",
       "    .dataframe tbody tr th:only-of-type {\n",
       "        vertical-align: middle;\n",
       "    }\n",
       "\n",
       "    .dataframe tbody tr th {\n",
       "        vertical-align: top;\n",
       "    }\n",
       "\n",
       "    .dataframe thead th {\n",
       "        text-align: right;\n",
       "    }\n",
       "</style>\n",
       "<table border=\"1\" class=\"dataframe\">\n",
       "  <thead>\n",
       "    <tr style=\"text-align: right;\">\n",
       "      <th></th>\n",
       "      <th>user_id</th>\n",
       "      <th>group</th>\n",
       "      <th>revenue</th>\n",
       "    </tr>\n",
       "  </thead>\n",
       "  <tbody>\n",
       "    <tr>\n",
       "      <th>0</th>\n",
       "      <td>737</td>\n",
       "      <td>test</td>\n",
       "      <td>0.0</td>\n",
       "    </tr>\n",
       "    <tr>\n",
       "      <th>1</th>\n",
       "      <td>2423</td>\n",
       "      <td>control</td>\n",
       "      <td>0.0</td>\n",
       "    </tr>\n",
       "    <tr>\n",
       "      <th>2</th>\n",
       "      <td>9411</td>\n",
       "      <td>control</td>\n",
       "      <td>0.0</td>\n",
       "    </tr>\n",
       "    <tr>\n",
       "      <th>3</th>\n",
       "      <td>7311</td>\n",
       "      <td>control</td>\n",
       "      <td>0.0</td>\n",
       "    </tr>\n",
       "    <tr>\n",
       "      <th>4</th>\n",
       "      <td>6174</td>\n",
       "      <td>test</td>\n",
       "      <td>0.0</td>\n",
       "    </tr>\n",
       "  </tbody>\n",
       "</table>\n",
       "</div>"
      ],
      "text/plain": [
       "   user_id    group  revenue\n",
       "0      737     test      0.0\n",
       "1     2423  control      0.0\n",
       "2     9411  control      0.0\n",
       "3     7311  control      0.0\n",
       "4     6174     test      0.0"
      ]
     },
     "execution_count": 4,
     "metadata": {},
     "output_type": "execute_result"
    }
   ],
   "source": [
    "df = df.rename(columns={'USER_ID':'user_id','VARIANT_NAME':'group','REVENUE':'revenue'})\n",
    "df = df.replace({'group': {'variant':'test'}})\n",
    "df.head()"
   ]
  },
  {
   "cell_type": "markdown",
   "id": "f5da9536",
   "metadata": {},
   "source": [
    "Посмотрим на распределение revenue."
   ]
  },
  {
   "cell_type": "code",
   "execution_count": 5,
   "id": "0d141c54",
   "metadata": {},
   "outputs": [
    {
     "data": {
      "text/plain": [
       "<AxesSubplot:xlabel='group', ylabel='revenue'>"
      ]
     },
     "execution_count": 5,
     "metadata": {},
     "output_type": "execute_result"
    },
    {
     "data": {
      "image/png": "[encoded data removed]",
      "text/plain": [
       "<Figure size 432x288 with 1 Axes>"
      ]
     },
     "metadata": {
      "needs_background": "light"
     },
     "output_type": "display_data"
    }
   ],
   "source": [
    "sns.boxplot(data=df, x=\"group\", y=\"revenue\")"
   ]
  },
  {
   "cell_type": "markdown",
   "id": "24470f28",
   "metadata": {},
   "source": [
    "Заметим, что большинство пользователей не совершали покупки. \\\n",
    "Поэтому сразу выделим пользователей, кто совершил хотя бы одну покупку."
   ]
  },
  {
   "cell_type": "code",
   "execution_count": 6,
   "id": "eaf91e6d",
   "metadata": {},
   "outputs": [],
   "source": [
    "df_paid = df[df.revenue > 0]"
   ]
  },
  {
   "cell_type": "markdown",
   "id": "dab9aa8f",
   "metadata": {},
   "source": [
    "Посмотрим если пользователи, которые присутствуют в обеих группах."
   ]
  },
  {
   "cell_type": "code",
   "execution_count": 7,
   "id": "eedceab7",
   "metadata": {},
   "outputs": [
    {
     "data": {
      "text/plain": [
       "1    149\n",
       "2      1\n",
       "Name: group, dtype: int64"
      ]
     },
     "execution_count": 7,
     "metadata": {},
     "output_type": "execute_result"
    }
   ],
   "source": [
    "df_paid.groupby(\"user_id\")[\"group\"].nunique().value_counts()"
   ]
  },
  {
   "cell_type": "markdown",
   "id": "5725a1fc",
   "metadata": {},
   "source": [
    "Такой пользователь один. Исключим его."
   ]
  },
  {
   "cell_type": "code",
   "execution_count": 8,
   "id": "34cd01a5",
   "metadata": {},
   "outputs": [
    {
     "data": {
      "text/html": [
       "<div>\n",
       "<style scoped>\n",
       "    .dataframe tbody tr th:only-of-type {\n",
       "        vertical-align: middle;\n",
       "    }\n",
       "\n",
       "    .dataframe tbody tr th {\n",
       "        vertical-align: top;\n",
       "    }\n",
       "\n",
       "    .dataframe thead th {\n",
       "        text-align: right;\n",
       "    }\n",
       "</style>\n",
       "<table border=\"1\" class=\"dataframe\">\n",
       "  <thead>\n",
       "    <tr style=\"text-align: right;\">\n",
       "      <th></th>\n",
       "      <th>user_id</th>\n",
       "      <th>group</th>\n",
       "      <th>revenue</th>\n",
       "    </tr>\n",
       "  </thead>\n",
       "  <tbody>\n",
       "    <tr>\n",
       "      <th>4123</th>\n",
       "      <td>1252</td>\n",
       "      <td>test</td>\n",
       "      <td>1.25</td>\n",
       "    </tr>\n",
       "    <tr>\n",
       "      <th>8108</th>\n",
       "      <td>1252</td>\n",
       "      <td>control</td>\n",
       "      <td>1.26</td>\n",
       "    </tr>\n",
       "  </tbody>\n",
       "</table>\n",
       "</div>"
      ],
      "text/plain": [
       "      user_id    group  revenue\n",
       "4123     1252     test     1.25\n",
       "8108     1252  control     1.26"
      ]
     },
     "execution_count": 8,
     "metadata": {},
     "output_type": "execute_result"
    }
   ],
   "source": [
    "df_paid.groupby(\"user_id\").filter(lambda x: x.group.nunique() > 1)"
   ]
  },
  {
   "cell_type": "code",
   "execution_count": 9,
   "id": "018337a8",
   "metadata": {},
   "outputs": [],
   "source": [
    "df_paid = df_paid[df_paid.user_id != 1252]"
   ]
  },
  {
   "cell_type": "markdown",
   "id": "7268474b",
   "metadata": {},
   "source": [
    "Взглянем на точечный график."
   ]
  },
  {
   "cell_type": "code",
   "execution_count": 10,
   "id": "e9804147",
   "metadata": {
    "scrolled": false
   },
   "outputs": [
    {
     "data": {
      "text/plain": [
       "<AxesSubplot:xlabel='user_id', ylabel='revenue'>"
      ]
     },
     "execution_count": 10,
     "metadata": {},
     "output_type": "execute_result"
    },
    {
     "data": {
      "image/png": "[encoded data removed]",
      "text/plain": [
       "<Figure size 432x288 with 1 Axes>"
      ]
     },
     "metadata": {
      "needs_background": "light"
     },
     "output_type": "display_data"
    }
   ],
   "source": [
    "sns.scatterplot(data=df_paid, x=\"user_id\", y=\"revenue\", hue=\"group\")"
   ]
  },
  {
   "cell_type": "markdown",
   "id": "4bc1f415",
   "metadata": {},
   "source": [
    "Заметим, что у нас есть несколько выбросов. Отсеем их по 99 персентилю."
   ]
  },
  {
   "cell_type": "code",
   "execution_count": 11,
   "id": "3e86782c",
   "metadata": {
    "scrolled": true
   },
   "outputs": [],
   "source": [
    "revenue_percentile_99 = np.percentile(df_paid.revenue,99)\n",
    "df_paid = df_paid[df_paid.revenue < revenue_percentile_99]"
   ]
  },
  {
   "cell_type": "code",
   "execution_count": 12,
   "id": "5db28652",
   "metadata": {},
   "outputs": [
    {
     "data": {
      "text/plain": [
       "<AxesSubplot:xlabel='user_id', ylabel='revenue'>"
      ]
     },
     "execution_count": 12,
     "metadata": {},
     "output_type": "execute_result"
    },
    {
     "data": {
      "image/png": "[encoded data removed]",
      "text/plain": [
       "<Figure size 432x288 with 1 Axes>"
      ]
     },
     "metadata": {
      "needs_background": "light"
     },
     "output_type": "display_data"
    }
   ],
   "source": [
    "sns.scatterplot(data=df_paid, x=\"user_id\", y=\"revenue\", hue=\"group\")"
   ]
  },
  {
   "cell_type": "markdown",
   "id": "60769266",
   "metadata": {},
   "source": [
    "Посмотрим на описательные статистики данных, сгруппированных по группам."
   ]
  },
  {
   "cell_type": "code",
   "execution_count": 13,
   "id": "8ca3d15a",
   "metadata": {},
   "outputs": [
    {
     "data": {
      "text/html": [
       "<div>\n",
       "<style scoped>\n",
       "    .dataframe tbody tr th:only-of-type {\n",
       "        vertical-align: middle;\n",
       "    }\n",
       "\n",
       "    .dataframe tbody tr th {\n",
       "        vertical-align: top;\n",
       "    }\n",
       "\n",
       "    .dataframe thead tr th {\n",
       "        text-align: left;\n",
       "    }\n",
       "\n",
       "    .dataframe thead tr:last-of-type th {\n",
       "        text-align: right;\n",
       "    }\n",
       "</style>\n",
       "<table border=\"1\" class=\"dataframe\">\n",
       "  <thead>\n",
       "    <tr>\n",
       "      <th></th>\n",
       "      <th>user_id</th>\n",
       "      <th colspan=\"4\" halign=\"left\">revenue</th>\n",
       "    </tr>\n",
       "    <tr>\n",
       "      <th></th>\n",
       "      <th>nunique</th>\n",
       "      <th>sum</th>\n",
       "      <th>mean</th>\n",
       "      <th>median</th>\n",
       "      <th>var</th>\n",
       "    </tr>\n",
       "    <tr>\n",
       "      <th>group</th>\n",
       "      <th></th>\n",
       "      <th></th>\n",
       "      <th></th>\n",
       "      <th></th>\n",
       "      <th></th>\n",
       "    </tr>\n",
       "  </thead>\n",
       "  <tbody>\n",
       "    <tr>\n",
       "      <th>control</th>\n",
       "      <td>78</td>\n",
       "      <td>445.73</td>\n",
       "      <td>5.714487</td>\n",
       "      <td>2.96</td>\n",
       "      <td>54.371022</td>\n",
       "    </tr>\n",
       "    <tr>\n",
       "      <th>test</th>\n",
       "      <td>69</td>\n",
       "      <td>291.59</td>\n",
       "      <td>4.165571</td>\n",
       "      <td>2.17</td>\n",
       "      <td>58.556515</td>\n",
       "    </tr>\n",
       "  </tbody>\n",
       "</table>\n",
       "</div>"
      ],
      "text/plain": [
       "        user_id revenue                            \n",
       "        nunique     sum      mean median        var\n",
       "group                                              \n",
       "control      78  445.73  5.714487   2.96  54.371022\n",
       "test         69  291.59  4.165571   2.17  58.556515"
      ]
     },
     "execution_count": 13,
     "metadata": {},
     "output_type": "execute_result"
    }
   ],
   "source": [
    "df_paid.groupby('group').agg({'user_id':'nunique','revenue':['sum','mean','median','var']})"
   ]
  },
  {
   "cell_type": "markdown",
   "id": "2f99a22b",
   "metadata": {},
   "source": [
    "Разобъем нашу выборку на групповые подвыборки."
   ]
  },
  {
   "cell_type": "code",
   "execution_count": 14,
   "id": "449a307f",
   "metadata": {},
   "outputs": [],
   "source": [
    "sample_A = df_paid[df_paid.group == \"control\"]\n",
    "sample_B = df_paid[df_paid.group == \"test\"]"
   ]
  },
  {
   "cell_type": "markdown",
   "id": "f4b3f08b",
   "metadata": {},
   "source": [
    "Заметим, что средний чек тестовой группы меньше среднего чека контрольной группы. \\\n",
    "Посмотрим величину относительного эффекта."
   ]
  },
  {
   "cell_type": "code",
   "execution_count": 15,
   "id": "52a4a00c",
   "metadata": {},
   "outputs": [
    {
     "data": {
      "text/plain": [
       "-1.54891575091575"
      ]
     },
     "execution_count": 15,
     "metadata": {},
     "output_type": "execute_result"
    }
   ],
   "source": [
    "diffmean = sample_B.revenue.mean()-sample_A.revenue.mean()\n",
    "diffmean"
   ]
  },
  {
   "cell_type": "code",
   "execution_count": 16,
   "id": "153e8819",
   "metadata": {},
   "outputs": [
    {
     "name": "stdout",
     "output_type": "stream",
     "text": [
      "Относительное изменение метрики: -27.11%\n"
     ]
    }
   ],
   "source": [
    "print(\"Относительное изменение метрики: {0:.2f}%\".format(diffmean / sample_A.revenue.mean() * 100))"
   ]
  },
  {
   "cell_type": "markdown",
   "id": "a24a16e2",
   "metadata": {},
   "source": [
    "## T-тест\n",
    "Проверим следующую гипотезу:\n",
    "\n",
    "$H_0$: разница между средними групп статистически незначима\n",
    "\n",
    "$H_1$: разница между средними групп статистически значима\n",
    "\n",
    "Уровень значимости $\\alpha=0.05$."
   ]
  },
  {
   "cell_type": "code",
   "execution_count": 17,
   "id": "cce5ff72",
   "metadata": {},
   "outputs": [
    {
     "data": {
      "text/plain": [
       "Ttest_indResult(statistic=1.2532848125553924, pvalue=0.2121054257496136)"
      ]
     },
     "execution_count": 17,
     "metadata": {},
     "output_type": "execute_result"
    }
   ],
   "source": [
    "ttest = stats.ttest_ind(sample_A.revenue, sample_B.revenue)\n",
    "ttest"
   ]
  },
  {
   "cell_type": "markdown",
   "id": "b58fe5b1",
   "metadata": {},
   "source": [
    "pvalue = 0.21 > 0.05  \n",
    "Не отвергаем нулевую гипотезу: эффект статистически незначим.  \n",
    "Дополнительно убедимся в этом, построив доверительный интервал для среднего."
   ]
  },
  {
   "cell_type": "markdown",
   "id": "00be6dad",
   "metadata": {},
   "source": [
    "Построим доверительный интервал для среднего. В силу ЦПТ, при достаточно большом объеме выборки среднее имеет нормальное распределение. Уровень значимости будем предполагать равному 5%."
   ]
  },
  {
   "cell_type": "code",
   "execution_count": 18,
   "id": "3831d4d6",
   "metadata": {},
   "outputs": [
    {
     "data": {
      "text/plain": [
       "(-3.9595113028938607, 0.8616798010623605)"
      ]
     },
     "execution_count": 18,
     "metadata": {},
     "output_type": "execute_result"
    }
   ],
   "source": [
    "ci_diffmean = stats.norm.interval(0.95, \n",
    "                    loc=diffmean,\n",
    "                    scale=np.sqrt(np.var(sample_A.revenue)/len(sample_A)+np.var(sample_B.revenue)/len(sample_B)))\n",
    "ci_diffmean"
   ]
  },
  {
   "cell_type": "markdown",
   "id": "bc7ebb9e",
   "metadata": {},
   "source": [
    "Полученный доверительный интервал содержит 0, следовательно, все так же получаем, что разница между средними групп статистически незначима."
   ]
  },
  {
   "cell_type": "markdown",
   "id": "44d34eff",
   "metadata": {},
   "source": [
    "Доверительный интервал относительного эффекта."
   ]
  },
  {
   "cell_type": "code",
   "execution_count": 20,
   "id": "0960de11",
   "metadata": {},
   "outputs": [
    {
     "data": {
      "text/plain": [
       "(-0.6928900491905886, 0.15078864891944474)"
      ]
     },
     "execution_count": 20,
     "metadata": {},
     "output_type": "execute_result"
    }
   ],
   "source": [
    "rel_ci_diffmean = (ci_diffmean[0] / sample_A.revenue.mean(), ci_diffmean[1] / sample_A.revenue.mean())\n",
    "rel_ci_diffmean"
   ]
  },
  {
   "cell_type": "markdown",
   "id": "9042ffc4",
   "metadata": {},
   "source": [
    "## Вывод.\n",
    "\n",
    "По результатам проведенного A/B теста, несмотря на то, что средний чек значительно упал, эффект тестируемой фичи оказался статистически незначим.  \n",
    "Средняя выручка с пользователя составила: $-1.54\\pm2.41$.  \n",
    "Относительная средняя выручка с пользователя составила: $-27\\%\\pm42\\%$\n",
    "\n",
    "Вывод: между контрольной и тестовой группами нет статистически значимой разницы."
   ]
  }
 ],
 "metadata": {
  "kernelspec": {
   "display_name": "Python 3",
   "language": "python",
   "name": "python3"
  },
  "language_info": {
   "codemirror_mode": {
    "name": "ipython",
    "version": 3
   },
   "file_extension": ".py",
   "mimetype": "text/x-python",
   "name": "python",
   "nbconvert_exporter": "python",
   "pygments_lexer": "ipython3",
   "version": "3.8.8"
  }
 },
 "nbformat": 4,
 "nbformat_minor": 5
}
